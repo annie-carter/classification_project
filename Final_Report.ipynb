{
 "cells": [
  {
   "cell_type": "markdown",
   "id": "4b63876d",
   "metadata": {},
   "source": [
    "# Telco Churn Final Project Classification Project"
   ]
  },
  {
   "cell_type": "markdown",
   "id": "f583490a",
   "metadata": {},
   "source": [
    "## Project Planning & Executive Summary\n",
    "\n",
    "### Project Description\n",
    "This project aims to identify the factors contributing to customer churn for TELCO, with the objective of providing insights to reduce churn and improve customer loyalty to the TELCO brand.\n",
    "\n",
    "### Project Goals\n",
    "The primary goals of this project were to:\n",
    "* Identify factors that have a significant relationship with customer churn.\n",
    "* Build an accurate classification model to predict customer churn.\n",
    "* Present the findings to lead data scientists and other stakeholders at TELCO.*\n",
    "### Initial Questions\n",
    "The project sought answers to the following initial questions:\n",
    "1. Does contract type have a significant relationship with customer churn?\n",
    "2. Does device protection have a significant relationship with customer churn?\n",
    "3. Does streaming TV have a significant relationship with customer churn?\n",
    "4. Does having tech support have a significant relationship with customer churn?\n",
    "\n",
    "### Executive Summary\n",
    "After careful analysis, four features were selected based on visual significance and significant relationships observed through chi-square statistical testing. The Logistic Regression model emerged as the best predictor of customer churn, exhibiting consistent accuracy of 80% across the train, validate, and test sets. This performance surpassed the baseline accuracy of 73.56%.\n",
    "\n",
    "The insights gained from this analysis will assist TELCO in understanding the reasons behind customer churn, allowing them to develop strategies to mitigate churn and enhance customer loyalty."
   ]
  },
  {
   "cell_type": "code",
   "execution_count": 1,
   "id": "b079ff02",
   "metadata": {},
   "outputs": [],
   "source": [
    "# Import Python Libraries\n",
    "import pandas as pd\n",
    "import numpy as np\n",
    "from scipy.stats import chi2_contingency\n",
    "\n",
    "import scipy.stats as stats\n",
    "import matplotlib.pyplot as plt\n",
    "import seaborn as sns\n",
    "\n",
    "\n",
    "# import Wrangle functions\n",
    "from env import user, password, hostname, get_db_url\n",
    "import acquire\n",
    "import prepare\n",
    "\n",
    "# ignore warnings\n",
    "import warnings \n",
    "warnings.filterwarnings(\"ignore\")\n",
    "\n",
    "# import Machine Learning Library for classification\n",
    "from sklearn.model_selection import train_test_split\n",
    "from sklearn.tree import DecisionTreeClassifier, plot_tree, export_text\n",
    "from sklearn.ensemble import RandomForestClassifier\n",
    "from sklearn.linear_model import LogisticRegression\n",
    "from sklearn.neighbors import KNeighborsClassifier\n",
    "from sklearn.linear_model import LogisticRegression\n",
    "from sklearn.neighbors import KNeighborsClassifier\n",
    "from sklearn.metrics import classification_report, confusion_matrix, accuracy_score\n",
    "from sklearn.metrics import ConfusionMatrixDisplay\n"
   ]
  },
  {
   "cell_type": "markdown",
   "id": "afbc6ee5",
   "metadata": {},
   "source": [
    "## DATA ACQUISITION"
   ]
  },
  {
   "cell_type": "code",
   "execution_count": 2,
   "id": "3ffed696",
   "metadata": {},
   "outputs": [],
   "source": [
    "telco_df = acquire.get_telco_data('telco_churn')\n"
   ]
  },
  {
   "cell_type": "code",
   "execution_count": 3,
   "id": "33f80760",
   "metadata": {},
   "outputs": [
    {
     "name": "stdout",
     "output_type": "stream",
     "text": [
      "<class 'pandas.core.frame.DataFrame'>\n",
      "RangeIndex: 7043 entries, 0 to 7042\n",
      "Data columns (total 25 columns):\n",
      " #   Column                    Non-Null Count  Dtype  \n",
      "---  ------                    --------------  -----  \n",
      " 0   Unnamed: 0                7043 non-null   int64  \n",
      " 1   internet_service_type_id  7043 non-null   int64  \n",
      " 2   contract_type_id          7043 non-null   int64  \n",
      " 3   payment_type_id           7043 non-null   int64  \n",
      " 4   customer_id               7043 non-null   object \n",
      " 5   gender                    7043 non-null   object \n",
      " 6   senior_citizen            7043 non-null   int64  \n",
      " 7   partner                   7043 non-null   object \n",
      " 8   dependents                7043 non-null   object \n",
      " 9   tenure                    7043 non-null   int64  \n",
      " 10  phone_service             7043 non-null   object \n",
      " 11  multiple_lines            7043 non-null   object \n",
      " 12  online_security           7043 non-null   object \n",
      " 13  online_backup             7043 non-null   object \n",
      " 14  device_protection         7043 non-null   object \n",
      " 15  tech_support              7043 non-null   object \n",
      " 16  streaming_tv              7043 non-null   object \n",
      " 17  streaming_movies          7043 non-null   object \n",
      " 18  paperless_billing         7043 non-null   object \n",
      " 19  monthly_charges           7043 non-null   float64\n",
      " 20  total_charges             7043 non-null   object \n",
      " 21  churn                     7043 non-null   object \n",
      " 22  payment_type              7043 non-null   object \n",
      " 23  contract_type             7043 non-null   object \n",
      " 24  internet_service_type     7043 non-null   object \n",
      "dtypes: float64(1), int64(6), object(18)\n",
      "memory usage: 1.3+ MB\n",
      "None\n",
      "                        \n",
      "        Unnamed: 0  internet_service_type_id  contract_type_id  \\\n",
      "count  7043.000000               7043.000000       7043.000000   \n",
      "mean   3521.000000                  1.872923          1.690473   \n",
      "std    2033.283305                  0.737796          0.833755   \n",
      "min       0.000000                  1.000000          1.000000   \n",
      "25%    1760.500000                  1.000000          1.000000   \n",
      "50%    3521.000000                  2.000000          1.000000   \n",
      "75%    5281.500000                  2.000000          2.000000   \n",
      "max    7042.000000                  3.000000          3.000000   \n",
      "\n",
      "       payment_type_id  senior_citizen       tenure  monthly_charges  \n",
      "count      7043.000000     7043.000000  7043.000000      7043.000000  \n",
      "mean          2.315633        0.162147    32.371149        64.761692  \n",
      "std           1.148907        0.368612    24.559481        30.090047  \n",
      "min           1.000000        0.000000     0.000000        18.250000  \n",
      "25%           1.000000        0.000000     9.000000        35.500000  \n",
      "50%           2.000000        0.000000    29.000000        70.350000  \n",
      "75%           3.000000        0.000000    55.000000        89.850000  \n",
      "max           4.000000        1.000000    72.000000       118.750000  \n",
      "                        \n",
      "                      count unique               top  freq\n",
      "customer_id            7043   7043        0002-ORFBO     1\n",
      "gender                 7043      2              Male  3555\n",
      "partner                7043      2                No  3641\n",
      "dependents             7043      2                No  4933\n",
      "phone_service          7043      2               Yes  6361\n",
      "multiple_lines         7043      3                No  3390\n",
      "online_security        7043      3                No  3498\n",
      "online_backup          7043      3                No  3088\n",
      "device_protection      7043      3                No  3095\n",
      "tech_support           7043      3                No  3473\n",
      "streaming_tv           7043      3                No  2810\n",
      "streaming_movies       7043      3                No  2785\n",
      "paperless_billing      7043      2               Yes  4171\n",
      "total_charges          7043   6531                      11\n",
      "churn                  7043      2                No  5174\n",
      "payment_type           7043      4  Electronic check  2365\n",
      "contract_type          7043      3    Month-to-month  3875\n",
      "internet_service_type  7043      3       Fiber optic  3096\n",
      "                        \n",
      "The telco data used for this project has 7043 rows and 25 columns\n",
      "                        \n",
      "This was the initial exploration of acquired data\n"
     ]
    }
   ],
   "source": [
    "data_acquire = acquire.telco_data_acquire(telco_df)"
   ]
  },
  {
   "cell_type": "markdown",
   "id": "affa7d58",
   "metadata": {},
   "source": [
    "## DATA PREPARATION"
   ]
  },
  {
   "cell_type": "code",
   "execution_count": 4,
   "id": "2765e10c",
   "metadata": {},
   "outputs": [
    {
     "data": {
      "text/html": [
       "<div>\n",
       "<style scoped>\n",
       "    .dataframe tbody tr th:only-of-type {\n",
       "        vertical-align: middle;\n",
       "    }\n",
       "\n",
       "    .dataframe tbody tr th {\n",
       "        vertical-align: top;\n",
       "    }\n",
       "\n",
       "    .dataframe thead th {\n",
       "        text-align: right;\n",
       "    }\n",
       "</style>\n",
       "<table border=\"1\" class=\"dataframe\">\n",
       "  <thead>\n",
       "    <tr style=\"text-align: right;\">\n",
       "      <th></th>\n",
       "      <th>customer_id</th>\n",
       "      <th>senior_citizen</th>\n",
       "      <th>tenure</th>\n",
       "      <th>monthly_charges</th>\n",
       "      <th>total_charges</th>\n",
       "      <th>payment_type</th>\n",
       "      <th>contract_type</th>\n",
       "      <th>partner_Yes</th>\n",
       "      <th>dependents_Yes</th>\n",
       "      <th>phone_service_Yes</th>\n",
       "      <th>...</th>\n",
       "      <th>tech_support_Yes</th>\n",
       "      <th>streaming_tv_No internet service</th>\n",
       "      <th>streaming_tv_Yes</th>\n",
       "      <th>streaming_movies_No internet service</th>\n",
       "      <th>streaming_movies_Yes</th>\n",
       "      <th>paperless_billing_Yes</th>\n",
       "      <th>churn_Yes</th>\n",
       "      <th>internet_service_type_Fiber optic</th>\n",
       "      <th>internet_service_type_None</th>\n",
       "      <th>gender_Male</th>\n",
       "    </tr>\n",
       "  </thead>\n",
       "  <tbody>\n",
       "    <tr>\n",
       "      <th>0</th>\n",
       "      <td>0002-ORFBO</td>\n",
       "      <td>0</td>\n",
       "      <td>9</td>\n",
       "      <td>65.60</td>\n",
       "      <td>593.30</td>\n",
       "      <td>Mailed check</td>\n",
       "      <td>One year</td>\n",
       "      <td>1</td>\n",
       "      <td>1</td>\n",
       "      <td>1</td>\n",
       "      <td>...</td>\n",
       "      <td>1</td>\n",
       "      <td>0</td>\n",
       "      <td>1</td>\n",
       "      <td>0</td>\n",
       "      <td>0</td>\n",
       "      <td>1</td>\n",
       "      <td>0</td>\n",
       "      <td>0</td>\n",
       "      <td>0</td>\n",
       "      <td>0</td>\n",
       "    </tr>\n",
       "    <tr>\n",
       "      <th>1</th>\n",
       "      <td>0003-MKNFE</td>\n",
       "      <td>0</td>\n",
       "      <td>9</td>\n",
       "      <td>59.90</td>\n",
       "      <td>542.40</td>\n",
       "      <td>Mailed check</td>\n",
       "      <td>Month-to-month</td>\n",
       "      <td>0</td>\n",
       "      <td>0</td>\n",
       "      <td>1</td>\n",
       "      <td>...</td>\n",
       "      <td>0</td>\n",
       "      <td>0</td>\n",
       "      <td>0</td>\n",
       "      <td>0</td>\n",
       "      <td>1</td>\n",
       "      <td>0</td>\n",
       "      <td>0</td>\n",
       "      <td>0</td>\n",
       "      <td>0</td>\n",
       "      <td>1</td>\n",
       "    </tr>\n",
       "    <tr>\n",
       "      <th>2</th>\n",
       "      <td>0004-TLHLJ</td>\n",
       "      <td>0</td>\n",
       "      <td>4</td>\n",
       "      <td>73.90</td>\n",
       "      <td>280.85</td>\n",
       "      <td>Electronic check</td>\n",
       "      <td>Month-to-month</td>\n",
       "      <td>0</td>\n",
       "      <td>0</td>\n",
       "      <td>1</td>\n",
       "      <td>...</td>\n",
       "      <td>0</td>\n",
       "      <td>0</td>\n",
       "      <td>0</td>\n",
       "      <td>0</td>\n",
       "      <td>0</td>\n",
       "      <td>1</td>\n",
       "      <td>1</td>\n",
       "      <td>1</td>\n",
       "      <td>0</td>\n",
       "      <td>1</td>\n",
       "    </tr>\n",
       "    <tr>\n",
       "      <th>3</th>\n",
       "      <td>0011-IGKFF</td>\n",
       "      <td>1</td>\n",
       "      <td>13</td>\n",
       "      <td>98.00</td>\n",
       "      <td>1237.85</td>\n",
       "      <td>Electronic check</td>\n",
       "      <td>Month-to-month</td>\n",
       "      <td>1</td>\n",
       "      <td>0</td>\n",
       "      <td>1</td>\n",
       "      <td>...</td>\n",
       "      <td>0</td>\n",
       "      <td>0</td>\n",
       "      <td>1</td>\n",
       "      <td>0</td>\n",
       "      <td>1</td>\n",
       "      <td>1</td>\n",
       "      <td>1</td>\n",
       "      <td>1</td>\n",
       "      <td>0</td>\n",
       "      <td>1</td>\n",
       "    </tr>\n",
       "    <tr>\n",
       "      <th>4</th>\n",
       "      <td>0013-EXCHZ</td>\n",
       "      <td>1</td>\n",
       "      <td>3</td>\n",
       "      <td>83.90</td>\n",
       "      <td>267.40</td>\n",
       "      <td>Mailed check</td>\n",
       "      <td>Month-to-month</td>\n",
       "      <td>1</td>\n",
       "      <td>0</td>\n",
       "      <td>1</td>\n",
       "      <td>...</td>\n",
       "      <td>1</td>\n",
       "      <td>0</td>\n",
       "      <td>1</td>\n",
       "      <td>0</td>\n",
       "      <td>0</td>\n",
       "      <td>1</td>\n",
       "      <td>1</td>\n",
       "      <td>1</td>\n",
       "      <td>0</td>\n",
       "      <td>0</td>\n",
       "    </tr>\n",
       "    <tr>\n",
       "      <th>...</th>\n",
       "      <td>...</td>\n",
       "      <td>...</td>\n",
       "      <td>...</td>\n",
       "      <td>...</td>\n",
       "      <td>...</td>\n",
       "      <td>...</td>\n",
       "      <td>...</td>\n",
       "      <td>...</td>\n",
       "      <td>...</td>\n",
       "      <td>...</td>\n",
       "      <td>...</td>\n",
       "      <td>...</td>\n",
       "      <td>...</td>\n",
       "      <td>...</td>\n",
       "      <td>...</td>\n",
       "      <td>...</td>\n",
       "      <td>...</td>\n",
       "      <td>...</td>\n",
       "      <td>...</td>\n",
       "      <td>...</td>\n",
       "      <td>...</td>\n",
       "    </tr>\n",
       "    <tr>\n",
       "      <th>7038</th>\n",
       "      <td>9987-LUTYD</td>\n",
       "      <td>0</td>\n",
       "      <td>13</td>\n",
       "      <td>55.15</td>\n",
       "      <td>742.90</td>\n",
       "      <td>Mailed check</td>\n",
       "      <td>One year</td>\n",
       "      <td>0</td>\n",
       "      <td>0</td>\n",
       "      <td>1</td>\n",
       "      <td>...</td>\n",
       "      <td>1</td>\n",
       "      <td>0</td>\n",
       "      <td>0</td>\n",
       "      <td>0</td>\n",
       "      <td>0</td>\n",
       "      <td>0</td>\n",
       "      <td>0</td>\n",
       "      <td>0</td>\n",
       "      <td>0</td>\n",
       "      <td>0</td>\n",
       "    </tr>\n",
       "    <tr>\n",
       "      <th>7039</th>\n",
       "      <td>9992-RRAMN</td>\n",
       "      <td>0</td>\n",
       "      <td>22</td>\n",
       "      <td>85.10</td>\n",
       "      <td>1873.70</td>\n",
       "      <td>Electronic check</td>\n",
       "      <td>Month-to-month</td>\n",
       "      <td>1</td>\n",
       "      <td>0</td>\n",
       "      <td>1</td>\n",
       "      <td>...</td>\n",
       "      <td>0</td>\n",
       "      <td>0</td>\n",
       "      <td>0</td>\n",
       "      <td>0</td>\n",
       "      <td>1</td>\n",
       "      <td>1</td>\n",
       "      <td>1</td>\n",
       "      <td>1</td>\n",
       "      <td>0</td>\n",
       "      <td>1</td>\n",
       "    </tr>\n",
       "    <tr>\n",
       "      <th>7040</th>\n",
       "      <td>9992-UJOEL</td>\n",
       "      <td>0</td>\n",
       "      <td>2</td>\n",
       "      <td>50.30</td>\n",
       "      <td>92.75</td>\n",
       "      <td>Mailed check</td>\n",
       "      <td>Month-to-month</td>\n",
       "      <td>0</td>\n",
       "      <td>0</td>\n",
       "      <td>1</td>\n",
       "      <td>...</td>\n",
       "      <td>0</td>\n",
       "      <td>0</td>\n",
       "      <td>0</td>\n",
       "      <td>0</td>\n",
       "      <td>0</td>\n",
       "      <td>1</td>\n",
       "      <td>0</td>\n",
       "      <td>0</td>\n",
       "      <td>0</td>\n",
       "      <td>1</td>\n",
       "    </tr>\n",
       "    <tr>\n",
       "      <th>7041</th>\n",
       "      <td>9993-LHIEB</td>\n",
       "      <td>0</td>\n",
       "      <td>67</td>\n",
       "      <td>67.85</td>\n",
       "      <td>4627.65</td>\n",
       "      <td>Mailed check</td>\n",
       "      <td>Two year</td>\n",
       "      <td>1</td>\n",
       "      <td>1</td>\n",
       "      <td>1</td>\n",
       "      <td>...</td>\n",
       "      <td>1</td>\n",
       "      <td>0</td>\n",
       "      <td>0</td>\n",
       "      <td>0</td>\n",
       "      <td>1</td>\n",
       "      <td>0</td>\n",
       "      <td>0</td>\n",
       "      <td>0</td>\n",
       "      <td>0</td>\n",
       "      <td>1</td>\n",
       "    </tr>\n",
       "    <tr>\n",
       "      <th>7042</th>\n",
       "      <td>9995-HOTOH</td>\n",
       "      <td>0</td>\n",
       "      <td>63</td>\n",
       "      <td>59.00</td>\n",
       "      <td>3707.60</td>\n",
       "      <td>Electronic check</td>\n",
       "      <td>Two year</td>\n",
       "      <td>1</td>\n",
       "      <td>1</td>\n",
       "      <td>0</td>\n",
       "      <td>...</td>\n",
       "      <td>0</td>\n",
       "      <td>0</td>\n",
       "      <td>1</td>\n",
       "      <td>0</td>\n",
       "      <td>1</td>\n",
       "      <td>0</td>\n",
       "      <td>0</td>\n",
       "      <td>0</td>\n",
       "      <td>0</td>\n",
       "      <td>1</td>\n",
       "    </tr>\n",
       "  </tbody>\n",
       "</table>\n",
       "<p>7043 rows × 29 columns</p>\n",
       "</div>"
      ],
      "text/plain": [
       "     customer_id  senior_citizen  tenure  monthly_charges  total_charges  \\\n",
       "0     0002-ORFBO               0       9            65.60         593.30   \n",
       "1     0003-MKNFE               0       9            59.90         542.40   \n",
       "2     0004-TLHLJ               0       4            73.90         280.85   \n",
       "3     0011-IGKFF               1      13            98.00        1237.85   \n",
       "4     0013-EXCHZ               1       3            83.90         267.40   \n",
       "...          ...             ...     ...              ...            ...   \n",
       "7038  9987-LUTYD               0      13            55.15         742.90   \n",
       "7039  9992-RRAMN               0      22            85.10        1873.70   \n",
       "7040  9992-UJOEL               0       2            50.30          92.75   \n",
       "7041  9993-LHIEB               0      67            67.85        4627.65   \n",
       "7042  9995-HOTOH               0      63            59.00        3707.60   \n",
       "\n",
       "          payment_type   contract_type  partner_Yes  dependents_Yes  \\\n",
       "0         Mailed check        One year            1               1   \n",
       "1         Mailed check  Month-to-month            0               0   \n",
       "2     Electronic check  Month-to-month            0               0   \n",
       "3     Electronic check  Month-to-month            1               0   \n",
       "4         Mailed check  Month-to-month            1               0   \n",
       "...                ...             ...          ...             ...   \n",
       "7038      Mailed check        One year            0               0   \n",
       "7039  Electronic check  Month-to-month            1               0   \n",
       "7040      Mailed check  Month-to-month            0               0   \n",
       "7041      Mailed check        Two year            1               1   \n",
       "7042  Electronic check        Two year            1               1   \n",
       "\n",
       "      phone_service_Yes  ...  tech_support_Yes  \\\n",
       "0                     1  ...                 1   \n",
       "1                     1  ...                 0   \n",
       "2                     1  ...                 0   \n",
       "3                     1  ...                 0   \n",
       "4                     1  ...                 1   \n",
       "...                 ...  ...               ...   \n",
       "7038                  1  ...                 1   \n",
       "7039                  1  ...                 0   \n",
       "7040                  1  ...                 0   \n",
       "7041                  1  ...                 1   \n",
       "7042                  0  ...                 0   \n",
       "\n",
       "      streaming_tv_No internet service  streaming_tv_Yes  \\\n",
       "0                                    0                 1   \n",
       "1                                    0                 0   \n",
       "2                                    0                 0   \n",
       "3                                    0                 1   \n",
       "4                                    0                 1   \n",
       "...                                ...               ...   \n",
       "7038                                 0                 0   \n",
       "7039                                 0                 0   \n",
       "7040                                 0                 0   \n",
       "7041                                 0                 0   \n",
       "7042                                 0                 1   \n",
       "\n",
       "      streaming_movies_No internet service  streaming_movies_Yes  \\\n",
       "0                                        0                     0   \n",
       "1                                        0                     1   \n",
       "2                                        0                     0   \n",
       "3                                        0                     1   \n",
       "4                                        0                     0   \n",
       "...                                    ...                   ...   \n",
       "7038                                     0                     0   \n",
       "7039                                     0                     1   \n",
       "7040                                     0                     0   \n",
       "7041                                     0                     1   \n",
       "7042                                     0                     1   \n",
       "\n",
       "      paperless_billing_Yes  churn_Yes  internet_service_type_Fiber optic  \\\n",
       "0                         1          0                                  0   \n",
       "1                         0          0                                  0   \n",
       "2                         1          1                                  1   \n",
       "3                         1          1                                  1   \n",
       "4                         1          1                                  1   \n",
       "...                     ...        ...                                ...   \n",
       "7038                      0          0                                  0   \n",
       "7039                      1          1                                  1   \n",
       "7040                      1          0                                  0   \n",
       "7041                      0          0                                  0   \n",
       "7042                      0          0                                  0   \n",
       "\n",
       "      internet_service_type_None  gender_Male  \n",
       "0                              0            0  \n",
       "1                              0            1  \n",
       "2                              0            1  \n",
       "3                              0            1  \n",
       "4                              0            0  \n",
       "...                          ...          ...  \n",
       "7038                           0            0  \n",
       "7039                           0            1  \n",
       "7040                           0            1  \n",
       "7041                           0            1  \n",
       "7042                           0            1  \n",
       "\n",
       "[7043 rows x 29 columns]"
      ]
     },
     "execution_count": 4,
     "metadata": {},
     "output_type": "execute_result"
    }
   ],
   "source": [
    "# Dropped columns 'internet_service_type_id','contract_type_id','payment_type_id', 'Unnamed: 0' and created and created dummy columns\n",
    "prepare_telco=prepare.prep_telco(telco_df)\n",
    "prepare_telco"
   ]
  },
  {
   "cell_type": "code",
   "execution_count": 5,
   "id": "cd625c4d",
   "metadata": {},
   "outputs": [
    {
     "name": "stdout",
     "output_type": "stream",
     "text": [
      "train data shape: (4225, 29)\n",
      "validate data shape: (1409, 29)\n",
      "test data shape: (1409, 29)\n"
     ]
    }
   ],
   "source": [
    "# Split telco data \n",
    "telco_train,telco_validate,telco_test=prepare.split_telco(prepare_telco)\n",
    "print(f'train data shape: {telco_train.shape}')\n",
    "print(f'validate data shape: {telco_validate.shape}')\n",
    "print(f'test data shape: {telco_test.shape}')"
   ]
  },
  {
   "cell_type": "markdown",
   "id": "381b133b",
   "metadata": {},
   "source": [
    "## DATA EXPLORATORY & ANALYSIS"
   ]
  },
  {
   "cell_type": "markdown",
   "id": "e6c2f9b9",
   "metadata": {},
   "source": [
    "### Exploring through Visualizations"
   ]
  },
  {
   "cell_type": "code",
   "execution_count": 6,
   "id": "cdeb9aa6",
   "metadata": {},
   "outputs": [
    {
     "data": {
      "image/png": "[encoded data removed]",
      "text/plain": [
       "<Figure size 640x480 with 1 Axes>"
      ]
     },
     "metadata": {},
     "output_type": "display_data"
    }
   ],
   "source": [
    "# 1. Visualizing the monthly contract vs churn\n",
    "ct=sns.countplot(data=telco_train, x='contract_type', hue='churn_Yes')\n",
    "ct.set_xlabel('Contract Type')\n",
    "ct.set_ylabel('Customer Count')\n",
    "plt.title('Contract Type vs Churn?')\n",
    "plt.show()"
   ]
  },
  {
   "cell_type": "markdown",
   "id": "a69e3e53",
   "metadata": {},
   "source": [
    "#### Contract Type Visual Findings\n",
    "The visual data shows that customers that the contract type has a significant impacy on the rate of churn. The longer the contract the less customers churn."
   ]
  },
  {
   "cell_type": "code",
   "execution_count": 7,
   "id": "61344300",
   "metadata": {},
   "outputs": [
    {
     "data": {
      "image/png": "[encoded data removed]",
      "text/plain": [
       "<Figure size 640x480 with 1 Axes>"
      ]
     },
     "metadata": {},
     "output_type": "display_data"
    }
   ],
   "source": [
    "#Visualizing the device protection vs churn\n",
    "dp=sns.countplot(data=telco_train, x='device_protection_Yes', hue='churn_Yes')\n",
    "dp.set_xlabel('Device Protection')\n",
    "dp.set_ylabel('Customer Count')\n",
    "plt.title('Device Protection vs Churn?')\n",
    "plt.show()"
   ]
  },
  {
   "cell_type": "markdown",
   "id": "26acec7a",
   "metadata": {},
   "source": [
    "#### Device Protection Visual Findings\n",
    "The visual data shows that customers with Device Protection churn less than those that do not have Device Protection."
   ]
  },
  {
   "cell_type": "code",
   "execution_count": 8,
   "id": "27560ca9",
   "metadata": {},
   "outputs": [
    {
     "data": {
      "image/png": "[encoded data removed]",
      "text/plain": [
       "<Figure size 640x480 with 1 Axes>"
      ]
     },
     "metadata": {},
     "output_type": "display_data"
    }
   ],
   "source": [
    "#Visualizing the streaming TV vs churn\n",
    "st=sns.countplot(data=telco_train, x='streaming_tv_Yes', hue='churn_Yes')\n",
    "st.set_xlabel('Streaming TV')\n",
    "st.set_ylabel('Customer Count')\n",
    "plt.title('Streaming TV vs Churn?')\n",
    "plt.show()"
   ]
  },
  {
   "cell_type": "markdown",
   "id": "a87b93fa",
   "metadata": {},
   "source": [
    "#### Streaming TV Visual Findings\n",
    "The visual data shows that customers that Stream Tv churn slightly less than those that do not Stream TV."
   ]
  },
  {
   "cell_type": "code",
   "execution_count": 9,
   "id": "0e14dded",
   "metadata": {},
   "outputs": [
    {
     "data": {
      "image/png": "[encoded data removed]",
      "text/plain": [
       "<Figure size 640x480 with 1 Axes>"
      ]
     },
     "metadata": {},
     "output_type": "display_data"
    }
   ],
   "source": [
    "#Visualizing the tech support vs churn\n",
    "ts=sns.countplot(data=telco_train, x='tech_support_Yes', hue='churn_Yes')\n",
    "ts.set_xlabel('Tech Support')\n",
    "ts.set_ylabel('Customer Count')\n",
    "plt.title('Tech Support vs Churn?')\n",
    "plt.show()"
   ]
  },
  {
   "cell_type": "markdown",
   "id": "8f0a02e9",
   "metadata": {},
   "source": [
    "#### Tech Support Visual Findings\n",
    "The visual data shows that customers with tech support churn significantly less than those that do not have Tech Support."
   ]
  },
  {
   "cell_type": "markdown",
   "id": "2ca4fe29",
   "metadata": {},
   "source": [
    "### 1. Statistical Testing  - Contract Type\n",
    "#### Contract Type Hypothesis:  \n",
    "    • alpha = .05 \n",
    "    • H0 = Contract type is independent of customer churn \n",
    "    • Ha = Contract type is dependent to customer churn  \n",
    "    • Outcome: We reject the Null Hypothesis.\n",
    "#####  Chi-square test using 2 discrete independent variables Contract Type vs Churn. "
   ]
  },
  {
   "cell_type": "code",
   "execution_count": 10,
   "id": "dce85c77",
   "metadata": {},
   "outputs": [
    {
     "name": "stdout",
     "output_type": "stream",
     "text": [
      "Chi-square statistic: 710.6774384452048\n",
      "p-value: 4.76820627630308e-155\n",
      "Degrees of freedom: 2\n",
      "Expected frequencies: [[1708.11266272  613.88733728]\n",
      " [ 649.55360947  233.44639053]\n",
      " [ 750.33372781  269.66627219]]\n"
     ]
    },
    {
     "data": {
      "image/png": "[encoded data removed]",
      "text/plain": [
       "<Figure size 640x480 with 2 Axes>"
      ]
     },
     "metadata": {},
     "output_type": "display_data"
    }
   ],
   "source": [
    "alpha = 0.05\n",
    "ct_observed = pd.crosstab(telco_train.contract_type, telco_train.churn_Yes)\n",
    "\n",
    "\n",
    "# Example contingency table\n",
    "ct_observed1 = np.array([[1331, 991],\n",
    "                         [792, 91],\n",
    "                         [985, 35]])\n",
    "\n",
    "# Perform chi-square test\n",
    "chi2, p, dof, expected = chi2_contingency(ct_observed1)\n",
    "\n",
    "# Print chi-square statistic, p-value, degrees of freedom, and expected frequencies\n",
    "print(\"Chi-square statistic:\", chi2)\n",
    "print(\"p-value:\", p)\n",
    "print(\"Degrees of freedom:\", dof)\n",
    "print(\"Expected frequencies:\", expected)\n",
    "\n",
    "# Plot the observed frequencies\n",
    "fig, ax = plt.subplots()\n",
    "cax = ax.matshow(ct_observed1, cmap='Blues')\n",
    "fig.colorbar(cax)\n",
    "\n",
    "# Add text to each cell\n",
    "for i in range(ct_observed1.shape[0]):\n",
    "    for j in range(ct_observed1.shape[1]):\n",
    "        ax.text(j, i, ct_observed1[i, j], va='center', ha='center')\n",
    "\n",
    "# Set x and y axis labels\n",
    "plt.xlabel('Column')\n",
    "plt.ylabel('Row')\n",
    "\n",
    "# Set plot title\n",
    "plt.title('Observed Frequencies')\n",
    "\n",
    "# Show the plot\n",
    "plt.show()\n",
    "\n",
    "\n",
    "\n",
    "                        "
   ]
  },
  {
   "cell_type": "code",
   "execution_count": 11,
   "id": "b0782832",
   "metadata": {},
   "outputs": [
    {
     "name": "stdout",
     "output_type": "stream",
     "text": [
      "We reject the null\n"
     ]
    }
   ],
   "source": [
    "if p < alpha:\n",
    "    print('We reject the null')\n",
    "else:\n",
    "    print(\"we fail to reject the null\")\n",
    "    "
   ]
  },
  {
   "cell_type": "markdown",
   "id": "f3a24fc4",
   "metadata": {},
   "source": [
    "#### Contract Type Statistical Findings\n",
    "The statistical data corroberates with the visual data that     \n",
    "• Ha = Contract Type is dependent to customer churn   \n",
    "\n",
    "But the relationship is fair of 710 to 4225. Can be used in modeling. \n",
    "\n",
    "In the future test ones that show less visual signficance to see if their statistical findings matches the visual."
   ]
  },
  {
   "cell_type": "markdown",
   "id": "2a2970f1",
   "metadata": {},
   "source": [
    "### 2. Statistical Testing - Tech Support\n",
    "#### Tech Support Hypothesis:  \n",
    "* alpha = .05 \n",
    "* H0 = Tech support is independent of customer churn \n",
    "* Ha = Tech support is dependent to customer churn  \n",
    "* Outcome: We reject the Null Hypothesis.\n",
    "#####  Chi-square test using 2 discrete independent variables Tech Support vs Churn. "
   ]
  },
  {
   "cell_type": "code",
   "execution_count": 12,
   "id": "22d75c15",
   "metadata": {},
   "outputs": [
    {
     "name": "stdout",
     "output_type": "stream",
     "text": [
      "Chi-square statistic: 110.05925867290274\n",
      "p-value: 9.510476114214062e-26\n",
      "Degrees of freedom: 1\n",
      "Expected frequencies: [[2200.24331361  790.75668639]\n",
      " [ 907.75668639  326.24331361]]\n"
     ]
    },
    {
     "data": {
      "image/png": "[encoded data removed]",
      "text/plain": [
       "<Figure size 640x480 with 2 Axes>"
      ]
     },
     "metadata": {},
     "output_type": "display_data"
    }
   ],
   "source": [
    "\n",
    "alpha = 0.05\n",
    "\n",
    "dt_observed = pd.crosstab(telco_train.tech_support_Yes, telco_train.churn_Yes)\n",
    "\n",
    "# Example contingency table\n",
    "dt_observed1 = np.array([[2063, 928],\n",
    "                         [1045, 189]])\n",
    "\n",
    "# Perform chi-square test\n",
    "chi2, p, dof, expected = chi2_contingency(dt_observed1)\n",
    "\n",
    "\n",
    "\n",
    "# Print chi-square statistic, p-value, degrees of freedom, and expected frequencies\n",
    "print(\"Chi-square statistic:\", chi2)\n",
    "print(\"p-value:\", p)\n",
    "print(\"Degrees of freedom:\", dof)\n",
    "print(\"Expected frequencies:\", expected)\n",
    "\n",
    "\n",
    "# Plot the observed frequencies\n",
    "fig, ax = plt.subplots()\n",
    "cax = ax.matshow(dt_observed1, cmap='Blues')\n",
    "fig.colorbar(cax)\n",
    "\n",
    "# Add text to each cell\n",
    "for i in range(dt_observed1.shape[0]):\n",
    "    for j in range(dt_observed1.shape[1]):\n",
    "        ax.text(j, i, dt_observed1[i, j], va='center', ha='center')\n",
    "\n",
    "# Set x and y axis labels\n",
    "plt.xlabel('Column')\n",
    "plt.ylabel('Row')\n",
    "\n",
    "# Set plot title\n",
    "plt.title('Observed Frequencies')\n",
    "\n",
    "# Show the plot\n",
    "plt.show()\n",
    "\n"
   ]
  },
  {
   "cell_type": "code",
   "execution_count": 13,
   "id": "911cf192",
   "metadata": {},
   "outputs": [
    {
     "name": "stdout",
     "output_type": "stream",
     "text": [
      "We reject the null\n"
     ]
    }
   ],
   "source": [
    "if p < alpha:\n",
    "    print('We reject the null')\n",
    "else:\n",
    "    print(\"we fail to reject the null\")"
   ]
  },
  {
   "cell_type": "markdown",
   "id": "b25eb36f",
   "metadata": {},
   "source": [
    "#### Tech Support Statistical Findings\n",
    "The statistical data corroberates with the visual data that     \n",
    "• Ha = Tech support is dependent to customer churn   \n",
    "\n",
    "But the relationship is weak of 110 to 4225. Can be used in modeling. "
   ]
  },
  {
   "cell_type": "markdown",
   "id": "35fd8254",
   "metadata": {},
   "source": [
    "## MODELING\n",
    "### Selecting evaluation methods \n",
    "Using the Tech Support and Contract Type for modeling with an established baseline accuracy of 74%.  I will use Decision Tree, Logistic Regression and Random Forest with a Random Seed = 42 to exceed baseline accuracy without overfitting. "
   ]
  },
  {
   "cell_type": "code",
   "execution_count": 14,
   "id": "8fffe573",
   "metadata": {},
   "outputs": [],
   "source": [
    "#Splitting the data in to X and Y to take out the data with curn and those without \n",
    "telco_X_train = telco_train.select_dtypes(exclude=['object']).drop(columns=['churn_Yes'])\n",
    "telco_y_train = telco_train.select_dtypes(exclude=['object']).churn_Yes\n",
    "\n",
    "telco_X_validate = telco_validate.select_dtypes(exclude=['object']).drop(columns=['churn_Yes'])\n",
    "telco_y_validate = telco_validate.select_dtypes(exclude=['object']).churn_Yes\n",
    "\n",
    "telco_X_test = telco_test.select_dtypes(exclude=['object']).drop(columns=['churn_Yes'])\n",
    "telco_y_test = telco_test.select_dtypes(exclude=['object']).churn_Yes"
   ]
  },
  {
   "cell_type": "markdown",
   "id": "bae0dba7",
   "metadata": {},
   "source": [
    "### Evaluate on Baseline"
   ]
  },
  {
   "cell_type": "code",
   "execution_count": 15,
   "id": "826b6e6d",
   "metadata": {},
   "outputs": [
    {
     "data": {
      "text/plain": [
       "0    3108\n",
       "1    1117\n",
       "Name: churn_Yes, dtype: int64"
      ]
     },
     "execution_count": 15,
     "metadata": {},
     "output_type": "execute_result"
    }
   ],
   "source": [
    "#Exploring churn The majority churn_Yes. value counts were '0', and will be use to define baseline\n",
    "telco_train.churn_Yes.value_counts()"
   ]
  },
  {
   "cell_type": "code",
   "execution_count": 16,
   "id": "984d98ae",
   "metadata": {},
   "outputs": [
    {
     "name": "stdout",
     "output_type": "stream",
     "text": [
      "The baseline accuracy is: 73.56%\n"
     ]
    }
   ],
   "source": [
    "baseline =(telco_y_train==0).mean()\n",
    "print(f'The baseline accuracy is: {baseline:.2%}')\n",
    "\n"
   ]
  },
  {
   "cell_type": "markdown",
   "id": "11176804",
   "metadata": {},
   "source": [
    "### Evaluate on Train and Validate"
   ]
  },
  {
   "cell_type": "markdown",
   "id": "07a081e9",
   "metadata": {},
   "source": [
    "### DECISION TREE"
   ]
  },
  {
   "cell_type": "code",
   "execution_count": 17,
   "id": "ff92810b",
   "metadata": {},
   "outputs": [
    {
     "data": {
      "text/plain": [
       "[Text(0.5, 0.875, 'tenure <= 16.5\\ngini = 0.389\\nsamples = 4225\\nvalue = [3108, 1117]'),\n",
       " Text(0.25, 0.625, 'internet_service_type_Fiber optic <= 0.5\\ngini = 0.496\\nsamples = 1530\\nvalue = [836, 694]'),\n",
       " Text(0.125, 0.375, 'internet_service_type_None <= 0.5\\ngini = 0.419\\nsamples = 876\\nvalue = [614, 262]'),\n",
       " Text(0.0625, 0.125, 'gini = 0.479\\nsamples = 502\\nvalue = [302, 200]'),\n",
       " Text(0.1875, 0.125, 'gini = 0.277\\nsamples = 374\\nvalue = [312, 62]'),\n",
       " Text(0.375, 0.375, 'total_charges <= 120.0\\ngini = 0.448\\nsamples = 654\\nvalue = [222, 432]'),\n",
       " Text(0.3125, 0.125, 'gini = 0.241\\nsamples = 143\\nvalue = [20, 123]'),\n",
       " Text(0.4375, 0.125, 'gini = 0.478\\nsamples = 511\\nvalue = [202, 309]'),\n",
       " Text(0.75, 0.625, 'internet_service_type_Fiber optic <= 0.5\\ngini = 0.265\\nsamples = 2695\\nvalue = [2272, 423]'),\n",
       " Text(0.625, 0.375, 'streaming_movies_No internet service <= 0.5\\ngini = 0.103\\nsamples = 1505\\nvalue = [1423, 82]'),\n",
       " Text(0.5625, 0.125, 'gini = 0.15\\nsamples = 956\\nvalue = [878, 78]'),\n",
       " Text(0.6875, 0.125, 'gini = 0.014\\nsamples = 549\\nvalue = [545, 4]'),\n",
       " Text(0.875, 0.375, 'tenure <= 43.5\\ngini = 0.409\\nsamples = 1190\\nvalue = [849, 341]'),\n",
       " Text(0.8125, 0.125, 'gini = 0.491\\nsamples = 507\\nvalue = [287, 220]'),\n",
       " Text(0.9375, 0.125, 'gini = 0.292\\nsamples = 683\\nvalue = [562, 121]')]"
      ]
     },
     "execution_count": 17,
     "metadata": {},
     "output_type": "execute_result"
    },
    {
     "data": {
      "image/png": "[encoded data removed]",
      "text/plain": [
       "<Figure size 1300x700 with 1 Axes>"
      ]
     },
     "metadata": {},
     "output_type": "display_data"
    }
   ],
   "source": [
    "# Make, FIT, Use Decision Tree\n",
    "clf_telco_tree = DecisionTreeClassifier(max_depth=3, random_state=42)\n",
    "clf_telco_tree = clf_telco_tree.fit(telco_X_train, telco_y_train)\n",
    "plt.figure(figsize=(13, 7))\n",
    "plot_tree(clf_telco_tree, feature_names=telco_X_train.columns, rounded=True)"
   ]
  },
  {
   "cell_type": "code",
   "execution_count": 18,
   "id": "0e95f2b0",
   "metadata": {},
   "outputs": [
    {
     "name": "stdout",
     "output_type": "stream",
     "text": [
      "decision tree training score: 78.53%\n",
      "decision tree validate score: 80.48%\n",
      "Both decision tree scores higher than baseline accuracy\n"
     ]
    }
   ],
   "source": [
    "print(f'decision tree training score: {clf_telco_tree.score(telco_X_train, telco_y_train):.2%}')\n",
    "print(f'decision tree validate score: {clf_telco_tree.score(telco_X_validate, telco_y_validate):.2%}')\n",
    "print('Both decision tree scores higher than baseline accuracy')"
   ]
  },
  {
   "cell_type": "markdown",
   "id": "1b9c66f7",
   "metadata": {},
   "source": [
    "### LOGISTIC REGRESSION"
   ]
  },
  {
   "cell_type": "code",
   "execution_count": 19,
   "id": "d4e336ba",
   "metadata": {},
   "outputs": [],
   "source": [
    "# Make, Fit, Use Logistic Regression\n",
    "logit = LogisticRegression(C=1, random_state=42)\n",
    "logit.fit(telco_X_train, telco_y_train)\n",
    "y_prediction = logit.predict(telco_X_train)"
   ]
  },
  {
   "cell_type": "code",
   "execution_count": 20,
   "id": "829bc912",
   "metadata": {},
   "outputs": [
    {
     "name": "stdout",
     "output_type": "stream",
     "text": [
      "logistic regression training score: 79.88%\n",
      "logistic regression validate score: 79.91%\n",
      "Both logistic regression scores are higher than baseline accuracy\n"
     ]
    }
   ],
   "source": [
    "print(f'logistic regression training score: {logit.score(telco_X_train, telco_y_train):.2%}')\n",
    "print(f'logistic regression validate score: {logit.score(telco_X_validate, telco_y_validate):.2%}')\n",
    "print('Both logistic regression scores are higher than baseline accuracy')"
   ]
  },
  {
   "cell_type": "markdown",
   "id": "33e09fe7",
   "metadata": {},
   "source": [
    "### RANDOM FOREST"
   ]
  },
  {
   "cell_type": "code",
   "execution_count": 21,
   "id": "8ef272c3",
   "metadata": {},
   "outputs": [
    {
     "data": {
      "text/html": [
       "<style>#sk-container-id-1 {color: black;background-color: white;}#sk-container-id-1 pre{padding: 0;}#sk-container-id-1 div.sk-toggleable {background-color: white;}#sk-container-id-1 label.sk-toggleable__label {cursor: pointer;display: block;width: 100%;margin-bottom: 0;padding: 0.3em;box-sizing: border-box;text-align: center;}#sk-container-id-1 label.sk-toggleable__label-arrow:before {content: \"▸\";float: left;margin-right: 0.25em;color: #696969;}#sk-container-id-1 label.sk-toggleable__label-arrow:hover:before {color: black;}#sk-container-id-1 div.sk-estimator:hover label.sk-toggleable__label-arrow:before {color: black;}#sk-container-id-1 div.sk-toggleable__content {max-height: 0;max-width: 0;overflow: hidden;text-align: left;background-color: #f0f8ff;}#sk-container-id-1 div.sk-toggleable__content pre {margin: 0.2em;color: black;border-radius: 0.25em;background-color: #f0f8ff;}#sk-container-id-1 input.sk-toggleable__control:checked~div.sk-toggleable__content {max-height: 200px;max-width: 100%;overflow: auto;}#sk-container-id-1 input.sk-toggleable__control:checked~label.sk-toggleable__label-arrow:before {content: \"▾\";}#sk-container-id-1 div.sk-estimator input.sk-toggleable__control:checked~label.sk-toggleable__label {background-color: #d4ebff;}#sk-container-id-1 div.sk-label input.sk-toggleable__control:checked~label.sk-toggleable__label {background-color: #d4ebff;}#sk-container-id-1 input.sk-hidden--visually {border: 0;clip: rect(1px 1px 1px 1px);clip: rect(1px, 1px, 1px, 1px);height: 1px;margin: -1px;overflow: hidden;padding: 0;position: absolute;width: 1px;}#sk-container-id-1 div.sk-estimator {font-family: monospace;background-color: #f0f8ff;border: 1px dotted black;border-radius: 0.25em;box-sizing: border-box;margin-bottom: 0.5em;}#sk-container-id-1 div.sk-estimator:hover {background-color: #d4ebff;}#sk-container-id-1 div.sk-parallel-item::after {content: \"\";width: 100%;border-bottom: 1px solid gray;flex-grow: 1;}#sk-container-id-1 div.sk-label:hover label.sk-toggleable__label {background-color: #d4ebff;}#sk-container-id-1 div.sk-serial::before {content: \"\";position: absolute;border-left: 1px solid gray;box-sizing: border-box;top: 0;bottom: 0;left: 50%;z-index: 0;}#sk-container-id-1 div.sk-serial {display: flex;flex-direction: column;align-items: center;background-color: white;padding-right: 0.2em;padding-left: 0.2em;position: relative;}#sk-container-id-1 div.sk-item {position: relative;z-index: 1;}#sk-container-id-1 div.sk-parallel {display: flex;align-items: stretch;justify-content: center;background-color: white;position: relative;}#sk-container-id-1 div.sk-item::before, #sk-container-id-1 div.sk-parallel-item::before {content: \"\";position: absolute;border-left: 1px solid gray;box-sizing: border-box;top: 0;bottom: 0;left: 50%;z-index: -1;}#sk-container-id-1 div.sk-parallel-item {display: flex;flex-direction: column;z-index: 1;position: relative;background-color: white;}#sk-container-id-1 div.sk-parallel-item:first-child::after {align-self: flex-end;width: 50%;}#sk-container-id-1 div.sk-parallel-item:last-child::after {align-self: flex-start;width: 50%;}#sk-container-id-1 div.sk-parallel-item:only-child::after {width: 0;}#sk-container-id-1 div.sk-dashed-wrapped {border: 1px dashed gray;margin: 0 0.4em 0.5em 0.4em;box-sizing: border-box;padding-bottom: 0.4em;background-color: white;}#sk-container-id-1 div.sk-label label {font-family: monospace;font-weight: bold;display: inline-block;line-height: 1.2em;}#sk-container-id-1 div.sk-label-container {text-align: center;}#sk-container-id-1 div.sk-container {/* jupyter's `normalize.less` sets `[hidden] { display: none; }` but bootstrap.min.css set `[hidden] { display: none !important; }` so we also need the `!important` here to be able to override the default hidden behavior on the sphinx rendered scikit-learn.org. See: https://github.com/scikit-learn/scikit-learn/issues/21755 */display: inline-block !important;position: relative;}#sk-container-id-1 div.sk-text-repr-fallback {display: none;}</style><div id=\"sk-container-id-1\" class=\"sk-top-container\"><div class=\"sk-text-repr-fallback\"><pre>RandomForestClassifier(max_depth=10, random_state=42)</pre><b>In a Jupyter environment, please rerun this cell to show the HTML representation or trust the notebook. <br />On GitHub, the HTML representation is unable to render, please try loading this page with nbviewer.org.</b></div><div class=\"sk-container\" hidden><div class=\"sk-item\"><div class=\"sk-estimator sk-toggleable\"><input class=\"sk-toggleable__control sk-hidden--visually\" id=\"sk-estimator-id-1\" type=\"checkbox\" checked><label for=\"sk-estimator-id-1\" class=\"sk-toggleable__label sk-toggleable__label-arrow\">RandomForestClassifier</label><div class=\"sk-toggleable__content\"><pre>RandomForestClassifier(max_depth=10, random_state=42)</pre></div></div></div></div></div>"
      ],
      "text/plain": [
       "RandomForestClassifier(max_depth=10, random_state=42)"
      ]
     },
     "execution_count": 21,
     "metadata": {},
     "output_type": "execute_result"
    }
   ],
   "source": [
    "# Make, Fit, Use Random Forest\n",
    "rf = RandomForestClassifier(bootstrap=True, \n",
    "                            class_weight=None, \n",
    "                            criterion='gini',\n",
    "                            min_samples_leaf=1,\n",
    "                            n_estimators=100,\n",
    "                            max_depth=10, \n",
    "                            random_state=42)\n",
    "rf.fit(telco_X_train, telco_y_train)"
   ]
  },
  {
   "cell_type": "code",
   "execution_count": 22,
   "id": "4bd8abd3",
   "metadata": {},
   "outputs": [
    {
     "name": "stdout",
     "output_type": "stream",
     "text": [
      "training score: 89.28%\n",
      "validate score: 78.21%\n",
      "Both random forest scores are higher than baseline accuracy\n"
     ]
    }
   ],
   "source": [
    "print(f'training score: {rf.score(telco_X_train, telco_y_train):.2%}')\n",
    "print(f'validate score: {rf.score(telco_X_validate, telco_y_validate):.2%}')\n",
    "print('Both random forest scores are higher than baseline accuracy')"
   ]
  },
  {
   "cell_type": "markdown",
   "id": "a2e2324a",
   "metadata": {},
   "source": [
    "### Final Selection of Evaluation Model\n",
    "Although Decision Tree Models scored higher than the baseline accuracy of 74% and the scores were consistent in both training and validation models, Logistic Regression had better accuracy and consistency than decision Tree with an over all 80%. The logistic regression model was chosen over Random Forest Model because although the Random Forest Model had highest training score of the three models and baseline in training, there was an 11% difference between the training and validation score. The Logistic Regression Model will be used on test data."
   ]
  },
  {
   "cell_type": "markdown",
   "id": "518da1df",
   "metadata": {},
   "source": [
    "### Evaluate TOP MODEL on Test"
   ]
  },
  {
   "cell_type": "code",
   "execution_count": 23,
   "id": "944ed449",
   "metadata": {},
   "outputs": [],
   "source": [
    "logit.fit(telco_X_train, telco_y_train)\n",
    "test_y_prediction = logit.predict(telco_X_test)\n",
    "# logit.classes_\n",
    "#  logit.predict_proba(telco_X_test) [:,1]"
   ]
  },
  {
   "cell_type": "code",
   "execution_count": 24,
   "id": "950c1a0f",
   "metadata": {},
   "outputs": [
    {
     "name": "stdout",
     "output_type": "stream",
     "text": [
      "logistic regression training score: 79.88%\n",
      "logistic regression validate score: 79.91%\n",
      "logistic regression validate score: 80.34%\n",
      "All three logistic regression scores are higher than baseline accuracy with a consistant accuracy of 80%\n"
     ]
    }
   ],
   "source": [
    "print(f'logistic regression training score: {logit.score(telco_X_train, telco_y_train):.2%}')\n",
    "print(f'logistic regression validate score: {logit.score(telco_X_validate, telco_y_validate):.2%}')\n",
    "print(f'logistic regression validate score: {logit.score(telco_X_test, telco_y_test):.2%}')\n",
    "print('All three logistic regression scores are higher than baseline accuracy with a consistant accuracy of 80%')"
   ]
  },
  {
   "cell_type": "code",
   "execution_count": 25,
   "id": "d16a5299",
   "metadata": {},
   "outputs": [
    {
     "data": {
      "text/html": [
       "<div>\n",
       "<style scoped>\n",
       "    .dataframe tbody tr th:only-of-type {\n",
       "        vertical-align: middle;\n",
       "    }\n",
       "\n",
       "    .dataframe tbody tr th {\n",
       "        vertical-align: top;\n",
       "    }\n",
       "\n",
       "    .dataframe thead th {\n",
       "        text-align: right;\n",
       "    }\n",
       "</style>\n",
       "<table border=\"1\" class=\"dataframe\">\n",
       "  <thead>\n",
       "    <tr style=\"text-align: right;\">\n",
       "      <th></th>\n",
       "      <th>customer_id</th>\n",
       "      <th>Probability of churn</th>\n",
       "      <th>Test Prediction</th>\n",
       "    </tr>\n",
       "  </thead>\n",
       "  <tbody>\n",
       "    <tr>\n",
       "      <th>941</th>\n",
       "      <td>1360-RCYRT</td>\n",
       "      <td>0.137622</td>\n",
       "      <td>0</td>\n",
       "    </tr>\n",
       "    <tr>\n",
       "      <th>1404</th>\n",
       "      <td>2075-PUEPR</td>\n",
       "      <td>0.004162</td>\n",
       "      <td>0</td>\n",
       "    </tr>\n",
       "    <tr>\n",
       "      <th>5515</th>\n",
       "      <td>7766-CLTIC</td>\n",
       "      <td>0.355639</td>\n",
       "      <td>0</td>\n",
       "    </tr>\n",
       "    <tr>\n",
       "      <th>3684</th>\n",
       "      <td>5196-SGOAK</td>\n",
       "      <td>0.645914</td>\n",
       "      <td>1</td>\n",
       "    </tr>\n",
       "    <tr>\n",
       "      <th>7017</th>\n",
       "      <td>9957-YODKZ</td>\n",
       "      <td>0.758514</td>\n",
       "      <td>1</td>\n",
       "    </tr>\n",
       "  </tbody>\n",
       "</table>\n",
       "</div>"
      ],
      "text/plain": [
       "     customer_id  Probability of churn  Test Prediction\n",
       "941   1360-RCYRT              0.137622                0\n",
       "1404  2075-PUEPR              0.004162                0\n",
       "5515  7766-CLTIC              0.355639                0\n",
       "3684  5196-SGOAK              0.645914                1\n",
       "7017  9957-YODKZ              0.758514                1"
      ]
     },
     "execution_count": 25,
     "metadata": {},
     "output_type": "execute_result"
    }
   ],
   "source": [
    "telco_y_test_prediction = pd.DataFrame({\n",
    "    'customer_id': telco_test['customer_id'],\n",
    "    'Probability of churn': logit.predict_proba(telco_X_test) [:,1],\n",
    "    'Test Prediction': logit.predict(telco_X_test)\n",
    "})\n",
    "telco_y_test_prediction.head()"
   ]
  },
  {
   "cell_type": "code",
   "execution_count": 26,
   "id": "c398058d",
   "metadata": {},
   "outputs": [
    {
     "name": "stdout",
     "output_type": "stream",
     "text": [
      "              precision    recall  f1-score   support\n",
      "\n",
      "           0       0.84      0.90      0.87      1032\n",
      "           1       0.66      0.54      0.60       377\n",
      "\n",
      "    accuracy                           0.80      1409\n",
      "   macro avg       0.75      0.72      0.73      1409\n",
      "weighted avg       0.79      0.80      0.80      1409\n",
      "\n"
     ]
    }
   ],
   "source": [
    "print(classification_report(telco_y_test,test_y_prediction))"
   ]
  },
  {
   "cell_type": "markdown",
   "id": "a5079da4",
   "metadata": {},
   "source": [
    "## Conclusion Summary \n",
    "\n",
    "Based on the classification data analysis conducted, the following key findings were made:\n",
    "\n",
    "- Four features were selected based on their visual significance and their significant relationship in chi-square statistical testing for training the Classification Model.\n",
    "- The Logistic Regression model outperformed the baseline accuracy of 73.56% and consistently achieved an accuracy of 80% on the train, validate, and test sets, making it the best model for predicting churn.\n",
    "- Hypothesis 1, regarding the dependence of contract type on customer churn, was supported by the data and can be used in modeling with a fair relationship observed.\n",
    "- Hypothesis 2 and Hypothesis 3, regarding the dependence of data protection and streaming_movies on customer churn, were rejected as the relationships were extremely low, and these features will not be used in modeling.\n",
    "- Hypothesis 4, regarding the dependence of tech support on customer churn, was supported by the data with a weak relationship, and it will be included in the modeling process to meet the project requirements.\n",
    "- Tech support and contract type were selected as features for modeling, aiming to exceed the baseline accuracy of 74%. Decision Tree, Logistic Regression, and Random Forest models were implemented with a Random Seed of 42 to avoid overfitting.\n",
    "- Logistic Regression outperformed the other models, achieving an overall accuracy of 80% consistently across training, validation, and testing.\n",
    "\n",
    "## Recommendations \n",
    "Further steps include dropping the data protection and streaming_movies columns during data preparation due to their shallow relationship with customer churn. Conducting chi-square statistical testing on the remaining columns to identify significant relationships above a threshold (e.g., 100) can further refine the subset for modeling. Additionally, implementing different versions with varied hyperparameters can be explored.\n",
    "- To gain additional insights, it is suggested to create an exit survey for customers who have churned and a welcome survey for new customers to understand their reasons for leaving their previous company and joining TELCO.\n",
    "\n",
    "## Takeaways\n",
    "\n",
    "While the classification models performed well and achieved high accuracy, the information obtained from the selected features could have provided more valuable insights into customer churn risk. However, the analysis did identify weak relationships with features such as data protection, streaming movies, and tech support. Moving forward, these elements can be excluded from future modeling efforts to focus on more impactful predictors."
   ]
  }
 ],
 "metadata": {
  "kernelspec": {
   "display_name": "Python 3 (ipykernel)",
   "language": "python",
   "name": "python3"
  },
  "language_info": {
   "codemirror_mode": {
    "name": "ipython",
    "version": 3
   },
   "file_extension": ".py",
   "mimetype": "text/x-python",
   "name": "python",
   "nbconvert_exporter": "python",
   "pygments_lexer": "ipython3",
   "version": "3.10.9"
  }
 },
 "nbformat": 4,
 "nbformat_minor": 5
}
